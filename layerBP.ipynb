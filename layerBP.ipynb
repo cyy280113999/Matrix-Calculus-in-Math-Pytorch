{
 "cells": [
  {
   "cell_type": "markdown",
   "source": [
    "头定义，部分运行使用"
   ],
   "metadata": {
    "collapsed": false,
    "pycharm": {
     "name": "#%% md\n"
    }
   }
  },
  {
   "cell_type": "code",
   "execution_count": 2,
   "outputs": [],
   "source": [
    "import torch\n",
    "import matplotlib.pyplot as plt"
   ],
   "metadata": {
    "collapsed": false,
    "pycharm": {
     "name": "#%%\n"
    }
   }
  },
  {
   "cell_type": "code",
   "execution_count": 3,
   "outputs": [],
   "source": [
    "k=2\n",
    "m=5\n",
    "n=4\n",
    "relu=torch.relu\n",
    "trial_count=3\n",
    "iter_count=10"
   ],
   "metadata": {
    "collapsed": false,
    "pycharm": {
     "name": "#%%\n"
    }
   }
  },
  {
   "cell_type": "markdown",
   "source": [
    "# 神经层分析"
   ],
   "metadata": {
    "collapsed": false,
    "pycharm": {
     "name": "#%% md\n"
    }
   }
  },
  {
   "cell_type": "markdown",
   "source": [
    "**Linear**\n",
    "定义网络层（线性层）\n",
    "层输入：$\\mathbf{x}\\sim tensor(k,m)$\n",
    "层权值：$\\mathbf{w}\\sim (n,m)$\n",
    "层偏移：$\\mathbf{b}\\sim (n)$\n",
    "层激活：$\\mathbf{f}(\\mathbf{x})$\n",
    "层输出：$\\mathbf{y}\\sim (k,n)$\n",
    "计算：$$\n",
    "\\mathbf{z}=\\mathbf{x}\\cdot\\mathbf{w}^T+\\mathbf{b}\\\\\n",
    "\\mathbf{y}=\\mathbf{f}(\\mathbf{z})\n",
    "$$\n"
   ],
   "metadata": {
    "collapsed": false,
    "pycharm": {
     "name": "#%% md\n"
    }
   }
  },
  {
   "cell_type": "markdown",
   "source": [
    "去点积化：$$\n",
    "\\mathbf{xx} = \\mathbf{x}.as(k,1,m)\\\\\n",
    "\\mathbf{z} = (\\mathbf{xx}*\\mathbf{w}).rsum(2) + \\mathbf{b} \\sim (k,n)\\\\\n",
    "\\mathbf{y} = \\mathbf{f}(\\mathbf{z})\n",
    "$$"
   ],
   "metadata": {
    "collapsed": false,
    "pycharm": {
     "name": "#%% md\n"
    }
   }
  },
  {
   "cell_type": "markdown",
   "source": [
    "理论计算与编程计算的对应\n",
    "\\begin{matrix}计算|领域&\\mathbf{math}&\\mathbf{pytorch}\\\\\n",
    "变形&x.as(a,b)&x.reshape(a,b)\\\\\n",
    "重复&x.repeat(a,b)&x.repeat(a,b)\\\\\n",
    "加法&sum(x,dim)&sum(x,dim,True)\\\\\n",
    "消除加法&rsum(x,dim)=sum(x,dim).transpose(...dim-1,dim+1...)&sum(x,dim)\\end{matrix}"
   ],
   "metadata": {
    "collapsed": false,
    "pycharm": {
     "name": "#%% md\n"
    }
   }
  },
  {
   "cell_type": "markdown",
   "source": [
    "**FP的计算过程**\n",
    "点积法"
   ],
   "metadata": {
    "collapsed": false,
    "pycharm": {
     "name": "#%% md\n"
    }
   }
  },
  {
   "cell_type": "code",
   "execution_count": 4,
   "outputs": [
    {
     "data": {
      "text/plain": "torch.Size([2, 4])"
     },
     "execution_count": 4,
     "metadata": {},
     "output_type": "execute_result"
    }
   ],
   "source": [
    "k=2\n",
    "m=5\n",
    "n=4\n",
    "x=torch.rand(k,m)\n",
    "w=torch.rand(n,m)\n",
    "b=torch.rand(n)\n",
    "# f is None\n",
    "z=torch.mm(x,w.T)+b\n",
    "y=z\n",
    "y.shape"
   ],
   "metadata": {
    "collapsed": false,
    "pycharm": {
     "name": "#%%\n"
    }
   }
  },
  {
   "cell_type": "markdown",
   "source": [
    "非点积法"
   ],
   "metadata": {
    "collapsed": false,
    "pycharm": {
     "name": "#%% md\n"
    }
   }
  },
  {
   "cell_type": "code",
   "execution_count": 5,
   "outputs": [
    {
     "data": {
      "text/plain": "torch.Size([2, 4])"
     },
     "execution_count": 5,
     "metadata": {},
     "output_type": "execute_result"
    }
   ],
   "source": [
    "xx=x.reshape(k,1,m)\n",
    "z=(xx*w).sum(2,False)+b\n",
    "y=z\n",
    "y.shape"
   ],
   "metadata": {
    "collapsed": false,
    "pycharm": {
     "name": "#%%\n"
    }
   }
  },
  {
   "cell_type": "markdown",
   "source": [
    "计算分解：\n",
    "**FP前向传播**\n",
    "$$\n",
    "xt=x.as(k,1,m)\\\\\n",
    "xtp=xt.repeat(1,n,1)\\sim(k,n,m)\\\\\n",
    "wp=w.repeat(k,1,1)\\\\\n",
    "zp=xtp*wp\\sim(k,n,m)\\\\\n",
    "zs=zp.sum(2)\\sim(k,n,1)\\\\\n",
    "zsr=zs.as(k,n)\\\\\n",
    "bt=b.as(1,n)\\\\\n",
    "btp=bt.repeat(k,1)\\sim(k,n)\\\\\n",
    "zb=zsr+btp\\\\\n",
    "y=f(zb)\n",
    "$$"
   ],
   "metadata": {
    "collapsed": false,
    "pycharm": {
     "name": "#%% md\n"
    }
   }
  },
  {
   "cell_type": "markdown",
   "source": [
    "**梯度计算法则**\n",
    "变形\n",
    "$$\\mathbf{x}\\sim(a,b)\\\\\n",
    "\\mathbf{or}\\ \\mathbf{x}\\sim(shape\\_sequence\\_x)\\\\\n",
    "a*b=c*d\\\\\n",
    "\\mathbf{or}\\ (shape\\_sequence\\_x).product=(shape\\_sequence\\_y).product\\\\\n",
    "\\mathbf{y}=\\mathbf{x}.as(c,d)\\\\\n",
    "y\\sim(c,d)$$\n",
    "定义抽象目标函数\n",
    "$$O(\\mathbf{x})\\\\\n",
    "\\begin{align}\n",
    "\\frac{\\partial O}{\\partial x}&=\\frac{dO}{dy}|_{\\{c,d\\}}\\cdot\\frac{dy}{dx}|_{\\{c,d|a,b\\}}\\\\\n",
    "&=\\frac{dO}{dy}.reshape(shape\\_sequence\\_x)\n",
    "\\end{align}\n",
    "$$"
   ],
   "metadata": {
    "collapsed": false,
    "pycharm": {
     "name": "#%% md\n"
    }
   }
  },
  {
   "cell_type": "markdown",
   "source": [
    "上式显然，下面增加详细推导\n",
    "引用平铺函数\n",
    "$$\n",
    "y=flatten(x) = x.as(a*b)\\\\\n",
    "y[i*a+j]=x[i,j]\n",
    "$$\n",
    "等效线性变换\n",
    "$$\n",
    "w[i,j,k]=\n",
    "\\left\\{\\begin{matrix}\n",
    "1,i=j*a+k\\\\\n",
    "0,else\n",
    "\\end{matrix}\\right.\\\\\n",
    "y=(w*x).rsum(1,2)\\sim(a,b)\\rightarrow (1)\n",
    "$$\n",
    "其导数为$$\n",
    "\\begin{align}\n",
    "\\frac{dy}{dx}[i,j,k]&=\n",
    "\\left\\{\\begin{matrix}\n",
    "1,i=j*a+k\\\\\n",
    "0,else\n",
    "\\end{matrix}\\right.\\\\\n",
    "\\frac{dy}{dx}&=w\n",
    "\\end{align}\\\\\n",
    "\\frac{dO}{dy}\\sim(a*b)\\\\\n",
    "\\begin{align}\n",
    "\\frac{dO}{dx}&=&\\frac{dO}{dy}\\cdot w&=& \\left((\\frac{dO}{dy}).as(a*b,1,1)*w\\right).rsum(0)\\\\\n",
    "&& &=&\\left(w.transpose(1,2,0)*\\frac{dO}{dy}\\right).rsum(2)\\leftarrow (1)\\\\\n",
    "&=& (\\frac{dO}{dy}).as(a,b) &&\n",
    "\\end{align}\n",
    "$$"
   ],
   "metadata": {
    "collapsed": false,
    "pycharm": {
     "name": "#%% md\n"
    }
   }
  },
  {
   "cell_type": "code",
   "execution_count": 6,
   "outputs": [],
   "source": [
    "x=torch.rand(3,4)\n",
    "y=x.reshape(2,6)\n",
    "yg=torch.rand(2,6)\n",
    "xg=yg.reshape(3,4)"
   ],
   "metadata": {
    "collapsed": false,
    "pycharm": {
     "name": "#%%\n"
    }
   }
  },
  {
   "cell_type": "markdown",
   "source": [
    "重复\n",
    "$$\n",
    "x\\sim(a,1)\\\\\n",
    "y=x.repeat(1,b)\\\\\n",
    "\\frac{dO}{dx}=\\frac{dO}{dy}.sum(1)\n",
    "$$\n",
    "重复对应求和"
   ],
   "metadata": {
    "collapsed": false,
    "pycharm": {
     "name": "#%% md\n"
    }
   }
  },
  {
   "cell_type": "code",
   "execution_count": 7,
   "outputs": [],
   "source": [
    "x=torch.rand(3,1)\n",
    "y=x.repeat(1,4)\n",
    "yg=torch.rand(3,4)\n",
    "xg=yg.sum(1,True)"
   ],
   "metadata": {
    "collapsed": false,
    "pycharm": {
     "name": "#%%\n"
    }
   }
  },
  {
   "cell_type": "markdown",
   "source": [
    "乘法\n",
    "$$\n",
    "x\\sim(a,b)\\\\\n",
    "w\\sim(a,b)\\\\\n",
    "y=x*w\\\\\n",
    "\\frac{dO}{dx}=\\frac{dO}{dy}*w\\\\\n",
    "xg=yg*w\\\\\n",
    "wg=yg*x\n",
    "$$"
   ],
   "metadata": {
    "collapsed": false,
    "pycharm": {
     "name": "#%% md\n"
    }
   }
  },
  {
   "cell_type": "code",
   "execution_count": 8,
   "outputs": [],
   "source": [
    "x=torch.rand(3,4)\n",
    "w=torch.rand(3,4)\n",
    "y=x*w\n",
    "yg=torch.rand(3,4)\n",
    "xg=yg*w\n",
    "wg=yg*x"
   ],
   "metadata": {
    "collapsed": false,
    "pycharm": {
     "name": "#%%\n"
    }
   }
  },
  {
   "cell_type": "markdown",
   "source": [
    "求和\n",
    "$$\n",
    "x\\sim(a,b)\\\\\n",
    "y=x.sum(1)\\\\\n",
    "xg=yg.repeat(1,b)\n",
    "$$"
   ],
   "metadata": {
    "collapsed": false,
    "pycharm": {
     "name": "#%% md\n"
    }
   }
  },
  {
   "cell_type": "code",
   "execution_count": 9,
   "outputs": [],
   "source": [
    "x=torch.rand(3,4)\n",
    "y=x.sum(1,True)\n",
    "yg=torch.rand(3,1)\n",
    "xg=yg.repeat(1,4)"
   ],
   "metadata": {
    "collapsed": false,
    "pycharm": {
     "name": "#%%\n"
    }
   }
  },
  {
   "cell_type": "markdown",
   "source": [
    "加法\n",
    "$$\n",
    "x\\sim(a,b)\\\\\n",
    "w\\sim(a,b)\\\\\n",
    "y=x+w\\\\\n",
    "\\frac{dO}{dx}=\\frac{dO}{dy}*w\\\\\n",
    "xg=wg=yg\n",
    "$$"
   ],
   "metadata": {
    "collapsed": false,
    "pycharm": {
     "name": "#%% md\n"
    }
   }
  },
  {
   "cell_type": "code",
   "execution_count": 10,
   "outputs": [],
   "source": [
    "x=torch.rand(3,4)\n",
    "w=torch.rand(3,4)\n",
    "y=x+w\n",
    "yg=torch.rand(3,4)\n",
    "xg=wg=yg"
   ],
   "metadata": {
    "collapsed": false,
    "pycharm": {
     "name": "#%%\n"
    }
   }
  },
  {
   "cell_type": "markdown",
   "source": [
    "广播函数\n",
    "如果函数结果的每个元素仅为一元函数施加在对应元素上\n",
    "$$\\mathbf{f}(\\mathbf{x})\n",
    "=\\begin{bmatrix}\n",
    "f_1(\\mathbf{x})\\\\\n",
    "f_2(\\mathbf{x})\\\\\n",
    "\\vdots\n",
    "\\end{bmatrix}\n",
    "===\\begin{bmatrix}\n",
    "f_1(x_1)\\\\\n",
    "f_1(x_2)\\\\\n",
    "\\vdots\n",
    "\\end{bmatrix}\n",
    "$$\n",
    "其梯度为\n",
    "$$\n",
    "\\frac{\\partial f}{\\partial x}=diag(\\cdots,\\frac{\\partial f}{\\partial x_i},\\cdots)\n",
    "$$"
   ],
   "metadata": {
    "collapsed": false,
    "pycharm": {
     "name": "#%% md\n"
    }
   }
  },
  {
   "cell_type": "markdown",
   "source": [
    "\n",
    "BP计算**gradient**.....\n",
    "$$\n",
    "zbg=yg\\cdot\\frac{dy}{dzb}\\sim(k,n)\\\\\n",
    "relu:zbg=yg*(zb>0)\\\\\n",
    "zsrg=btpg=zbg\\\\\n",
    "btg=btpg.sum(0)\\\\\n",
    "bg=btg.as(n)\\\\\n",
    "zsg=zsrg.as(k,n,1)\\\\\n",
    "zpg=zsg.repeat(1,1,m)\\sim(k,n,m)\\\\\n",
    "wpg=zpg*xtp\\sim(k,n,m)\\\\\n",
    "wg=wpg.rsum(0)\\\\\n",
    "xtpg=zpg*wp\n",
    "xtg=xtpg.sum(1)\\sim(k,1,m)\\\\\n",
    "xg=xtg.as(k,m)\n",
    "$$"
   ],
   "metadata": {
    "collapsed": false,
    "pycharm": {
     "name": "#%% md\n"
    }
   }
  },
  {
   "cell_type": "code",
   "execution_count": 47,
   "outputs": [
    {
     "data": {
      "text/plain": "tensor([[3.2198, 0.8234, 1.1758, 0.0000],\n        [4.7900, 0.0000, 1.2523, 0.0000]])"
     },
     "execution_count": 47,
     "metadata": {},
     "output_type": "execute_result"
    }
   ],
   "source": [
    "class Linear:\n",
    "    def __init__(self,input_shape,output_shape,activation=None):\n",
    "        self.input_shape=input_shape\n",
    "        self.output_shape = output_shape\n",
    "        self.w=torch.randn(output_shape,input_shape)\n",
    "        self.b=torch.randn(output_shape)\n",
    "        self.f=None\n",
    "        self.activation=activation\n",
    "        if activation=='relu':\n",
    "            self.f=relu\n",
    "    def __call__(self,x):\n",
    "        k,m=x.shape\n",
    "        assert m==self.input_shape\n",
    "        n=self.output_shape\n",
    "        self.x=x\n",
    "        self.xt=self.x.reshape(k,1,m)\n",
    "        self.xtp=self.xt.repeat(1,n,1)\n",
    "        self.wp=self.w.repeat(k,1,1)\n",
    "        self.zp=self.xtp*self.wp\n",
    "        self.zs=self.zp.sum(2,False)\n",
    "        self.zsr=self.zs.reshape(k,n)\n",
    "        self.bt=self.b.reshape(1,n)\n",
    "        self.btp=self.bt.repeat(k,1)\n",
    "        self.zb=self.zsr+self.btp\n",
    "        if self.f:\n",
    "            y=self.f(self.zb)\n",
    "        else:\n",
    "            y=z\n",
    "        return y\n",
    "    def update(self,yg,rate):\n",
    "        if self.activation=='relu':\n",
    "            zbg=yg*(self.zb>0)\n",
    "        elif self.activation==None:\n",
    "            zbg=yg\n",
    "        else:\n",
    "            raise Exception('activation not available!')\n",
    "        zsrg=btpg=zbg\n",
    "        btg=btpg.sum(0,True)\n",
    "        bg=btg.reshape(n)\n",
    "        zsg=zsrg.reshape(k,n,1)\n",
    "        zpg=zsg.repeat(1,1,m)\n",
    "        xtpg=wpg=zpg\n",
    "        wg=wpg.sum(0,False)\n",
    "        xtg=xtpg.sum(1,True)\n",
    "        xg=xtg.reshape(k,m)\n",
    "        self.w-=rate*wg\n",
    "        self.b-=rate*bg\n",
    "x=torch.rand(k,m)\n",
    "layer = Linear(m,n,'relu')\n",
    "layer(x)"
   ],
   "metadata": {
    "collapsed": false,
    "pycharm": {
     "name": "#%%\n"
    }
   }
  },
  {
   "cell_type": "code",
   "execution_count": 49,
   "outputs": [
    {
     "name": "stdout",
     "output_type": "stream",
     "text": [
      "tensor([[2.3315, 2.1818, 2.0322, 1.8825, 1.7328, 1.5832, 1.4335, 1.2838, 1.1342,\n",
      "         0.9845],\n",
      "        [6.5189, 6.2062, 5.8934, 5.6140, 5.4165, 5.2190, 5.0215, 4.8240, 4.6265,\n",
      "         4.4290],\n",
      "        [6.5348, 6.1885, 5.8422, 5.4959, 5.1496, 4.8314, 4.5973, 4.3632, 4.1291,\n",
      "         3.8950]])\n"
     ]
    },
    {
     "data": {
      "text/plain": "[<matplotlib.lines.Line2D at 0x22319475d60>,\n <matplotlib.lines.Line2D at 0x22319475d90>,\n <matplotlib.lines.Line2D at 0x22319475eb0>]"
     },
     "execution_count": 49,
     "metadata": {},
     "output_type": "execute_result"
    },
    {
     "data": {
      "text/plain": "<Figure size 432x288 with 1 Axes>",
      "image/png": "[encoded data removed]"
     },
     "metadata": {
      "needs_background": "light"
     },
     "output_type": "display_data"
    }
   ],
   "source": [
    "trial_count=3\n",
    "iter_count=10\n",
    "O_descending=torch.zeros(trial_count,iter_count)\n",
    "O_fun=lambda x:layer(x).sum()\n",
    "for i in range(trial_count):\n",
    "    x=torch.rand(k,m)\n",
    "    layer = Linear(m,n,'relu')\n",
    "    O_descending[i,0]=O_fun(x)\n",
    "    for j in range(1,iter_count):\n",
    "        yg=torch.ones(k,n)\n",
    "        layer.update(yg,0.01)\n",
    "        O_descending[i,j]=O_fun(x)\n",
    "print(O_descending)\n",
    "plt.plot(O_descending.T)"
   ],
   "metadata": {
    "collapsed": false,
    "pycharm": {
     "name": "#%%\n"
    }
   }
  },
  {
   "cell_type": "markdown",
   "source": [
    "化简\n",
    "FP\n",
    "$$\n",
    "z=(x.reshape(k,n,1)*w).sum(2)+b\\\\\n",
    "y=f(z)\n",
    "$$\n",
    "BP\n",
    "$$\n",
    "wg=(zg.as(k,n,1).repeat(1,1,m)*x.as(k,1,m).repeat(1,n,1)).rsum(0)\\\\\n",
    "=(zg.as(k,n,1)*x.as(k,1,m)).rsum(0)\\\\\n",
    "bg=zg.rsum(0)\\\\\n",
    "xg=(zg.as(k,n,1).repeat(1,1,m)*w.repeat(k,1,1)).sum(1).as(k,m)\\\\\n",
    "=(zg.as(k,n,1)*w).rsum(1)\n",
    "$$"
   ],
   "metadata": {
    "collapsed": false,
    "pycharm": {
     "name": "#%% md\n"
    }
   }
  },
  {
   "cell_type": "code",
   "execution_count": 14,
   "outputs": [
    {
     "name": "stdout",
     "output_type": "stream",
     "text": [
      "tensor([[4.7417, 4.6221, 4.5024, 4.3828, 4.2631, 4.1435, 4.0239, 3.9042, 3.7846,\n",
      "         3.6649],\n",
      "        [7.1046, 6.9604, 6.8161, 6.6719, 6.5276, 6.3834, 6.2391, 6.0949, 5.9506,\n",
      "         5.8064],\n",
      "        [3.9538, 3.7282, 3.5027, 3.2772, 3.0517, 2.8262, 2.6328, 2.4938, 2.3547,\n",
      "         2.2157]])\n"
     ]
    },
    {
     "data": {
      "text/plain": "[<matplotlib.lines.Line2D at 0x1a6cec16c70>,\n <matplotlib.lines.Line2D at 0x1a6cec16ca0>,\n <matplotlib.lines.Line2D at 0x1a6cec16dc0>]"
     },
     "execution_count": 14,
     "metadata": {},
     "output_type": "execute_result"
    },
    {
     "data": {
      "text/plain": "<Figure size 432x288 with 1 Axes>",
      "image/png": "[encoded data removed]"
     },
     "metadata": {
      "needs_background": "light"
     },
     "output_type": "display_data"
    }
   ],
   "source": [
    "class Linear:\n",
    "    def __init__(self,input_shape,output_shape,activation=None):\n",
    "        self.input_shape=input_shape\n",
    "        self.output_shape = output_shape\n",
    "        self.w=torch.randn(output_shape,input_shape)\n",
    "        self.b=torch.randn(output_shape)\n",
    "        self.f=None\n",
    "        self.activation=activation\n",
    "        if activation=='relu':\n",
    "            self.f=relu\n",
    "    def __call__(self,x):\n",
    "        k,m=x.shape\n",
    "        assert m==self.input_shape\n",
    "        n=self.output_shape\n",
    "        self.x=x\n",
    "        self.z=(self.x.reshape(k,1,m)*self.w).sum(2)+self.b\n",
    "        if self.f:\n",
    "            y=self.f(self.z)\n",
    "        else:\n",
    "            y=z\n",
    "        return y\n",
    "    def update(self,yg,rate):\n",
    "        if self.activation=='relu':\n",
    "            zbg=yg*(self.z>0)\n",
    "        elif self.activation==None:\n",
    "            zbg=yg\n",
    "        else:\n",
    "            raise Exception('activation not available!')\n",
    "        wg=(zbg.reshape(k,n,1)*self.x.reshape(k,1,m)).sum(0)\n",
    "        bg=zbg.sum(0)\n",
    "        xg=(zbg.reshape(k,n,1)*self.w).sum(1)\n",
    "        self.w-=rate*wg\n",
    "        self.b-=rate*bg\n",
    "trial_count=3\n",
    "iter_count=10\n",
    "O_descending=torch.zeros(trial_count,iter_count)\n",
    "O_fun=lambda x:layer(x).sum()\n",
    "for i in range(trial_count):\n",
    "    x=torch.rand(k,m)\n",
    "    layer = Linear(m,n,'relu')\n",
    "    O_descending[i,0]=O_fun(x)\n",
    "    for j in range(1,iter_count):\n",
    "        yg=torch.ones(k,n)\n",
    "        layer.update(yg,0.01)\n",
    "        O_descending[i,j]=O_fun(x)\n",
    "print(O_descending)\n",
    "plt.plot(O_descending.T)"
   ],
   "metadata": {
    "collapsed": false,
    "pycharm": {
     "name": "#%%\n"
    }
   }
  },
  {
   "cell_type": "markdown",
   "source": [
    "# 附录\n",
    "草稿"
   ],
   "metadata": {
    "collapsed": false,
    "pycharm": {
     "name": "#%% md\n"
    }
   }
  },
  {
   "cell_type": "markdown",
   "source": [
    "计算偏导：$$\n",
    "\\frac{\\partial O}{\\partial y}\\sim(k,n)\\\\\n",
    "\\frac{dO}{dz}=\\frac{dO}{dy}\\cdot\\frac{dy}{dz}\\sim(k,n)\\\\\n",
    "\\frac{dO}{dxx}=\\frac{dO}{dz}\\cdot\\frac{dz}{dxx}\\\\\n",
    "=\\left (\\frac{dO}{dz}_{\\{k,n\\}}.as(k,n,1).repeat(1,1,m)*w.as(1,n,m)\\right )_{\\{k,n,m\\}}.sum(1)\\sim(k,1,m)\\\\\n",
    "\\frac{dO}{dx}=\\frac{dO}{dxx}.as(k,m)\\\\\n",
    "\\frac{dO}{dw}=\\left (\\frac{dO}{dz}.as(k,n,1).repeat(1,1,m)*xx\\right)_{\\{k,n,m\\}}.rsum(0)\\\\\n",
    "\\frac{dO}{db}=\\frac{dO}{dz}.sum(0)\n",
    "$$"
   ],
   "metadata": {
    "collapsed": false,
    "pycharm": {
     "name": "#%% md\n"
    }
   }
  },
  {
   "cell_type": "code",
   "execution_count": 21,
   "outputs": [
    {
     "name": "stdout",
     "output_type": "stream",
     "text": [
      "torch.Size([2, 5])\n",
      "torch.Size([4, 5])\n"
     ]
    }
   ],
   "source": [
    "dody=torch.rand(k,n)\n",
    "dodz=dody\n",
    "dodxx=(dodz.reshape(k,n,1).repeat(1,1,m)*w.reshape(1,n,m)).sum(1)\n",
    "dodx=dodxx.reshape(k,m)\n",
    "print(dodx.shape)\n",
    "dodw=(dodz.reshape(k,n,1).repeat(1,1,m)*xx).sum(0)\n",
    "print(dodw.shape)"
   ],
   "metadata": {
    "collapsed": false,
    "pycharm": {
     "name": "#%%\n"
    }
   }
  },
  {
   "cell_type": "markdown",
   "source": [
    "$$\n",
    "xg=(zg.as(k,n,1)*w).rsum(1)\\\\\n",
    "wg=(zg.as(k,n,1)*x.as(k,1,m)).rsum(0)\n",
    "$$"
   ],
   "metadata": {
    "collapsed": false,
    "pycharm": {
     "name": "#%% md\n"
    }
   }
  },
  {
   "cell_type": "code",
   "execution_count": 26,
   "outputs": [
    {
     "name": "stdout",
     "output_type": "stream",
     "text": [
      "torch.Size([2, 5])\n",
      "torch.Size([4, 5])\n",
      "torch.Size([4])\n"
     ]
    }
   ],
   "source": [
    "zg=torch.rand(k,n)\n",
    "xg=(zg.reshape(k,n,1)*w).sum(1)\n",
    "print(xg.shape)\n",
    "wg=(zg.reshape(k,n,1)*x.reshape(k,1,m)).sum(0)\n",
    "print(wg.shape)\n",
    "bg=zg.sum(0)\n",
    "print(bg.shape)"
   ],
   "metadata": {
    "collapsed": false,
    "pycharm": {
     "name": "#%%\n"
    }
   }
  },
  {
   "cell_type": "code",
   "execution_count": 31,
   "outputs": [
    {
     "data": {
      "text/plain": "tensor([[1.1406, 1.3594, 0.0000, 0.0000],\n        [0.0000, 1.9571, 0.0000, 0.0000]])"
     },
     "execution_count": 31,
     "metadata": {},
     "output_type": "execute_result"
    }
   ],
   "source": [
    "relu=torch.relu\n",
    "class Linear:\n",
    "    def __init__(self,input_shape,output_shape,activation=None):\n",
    "        self.w=torch.randn(output_shape,input_shape)\n",
    "        self.b=torch.randn(output_shape)\n",
    "        self.f=None\n",
    "        if activation=='relu':\n",
    "            self.f=relu\n",
    "    def __call__(self,x):\n",
    "        self.x=x\n",
    "        xx=x.reshape(k,1,m)\n",
    "        z=(xx*self.w).sum(2)+self.b\n",
    "        if self.f:\n",
    "            y=self.f(z)\n",
    "        else:\n",
    "            y=z\n",
    "        return y\n",
    "    def update(self,yg,rate):\n",
    "        xx=self.x.reshape(k,1,m)\n",
    "        z=(xx*self.w).sum(2)+self.b\n",
    "        zg=yg*(z>0)\n",
    "        wg=(zg.reshape(k,n,1)*x.reshape(k,1,m)).sum(0)\n",
    "        bg=zg.sum(0)\n",
    "        self.w-=rate*wg\n",
    "        self.b-=rate*bg\n",
    "layer = Linear(m,n,'relu')\n",
    "layer(x)"
   ],
   "metadata": {
    "collapsed": false,
    "pycharm": {
     "name": "#%%\n"
    }
   }
  },
  {
   "cell_type": "markdown",
   "source": [
    "Objective:\n",
    "$$\n",
    "O=sum(y)\\\\\n",
    "f=relu\\\\\n",
    "\\frac{dO}{dy}=ones\\_like(y)\\\\\n",
    "\\frac{dO}{dz}=ones(k,n)*(z>0)=1.0*(z>0)\\\\\n",
    "\\frac{dO}{dz}=\\frac{dO}{dy}=ones(k,n)\\\\\n",
    "\\frac{dO}{dx}=ones(k,n)*w.rsum(0).repeat(k,1)\n",
    "$$"
   ],
   "metadata": {
    "collapsed": false,
    "pycharm": {
     "name": "#%% md\n"
    }
   }
  },
  {
   "cell_type": "code",
   "execution_count": null,
   "outputs": [],
   "source": [
    "# Linear.update"
   ],
   "metadata": {
    "collapsed": false,
    "pycharm": {
     "name": "#%%\n"
    }
   }
  },
  {
   "cell_type": "code",
   "execution_count": 32,
   "outputs": [
    {
     "name": "stdout",
     "output_type": "stream",
     "text": [
      "tensor([[ 8.6780,  8.4475,  8.2170,  7.9865,  7.7559,  7.5254,  7.2949,  7.0995,\n",
      "          6.9055,  6.7115],\n",
      "        [13.0841, 12.8200, 12.5916, 12.3962, 12.2007, 12.0053, 11.8098, 11.6144,\n",
      "         11.4189, 11.2235],\n",
      "        [ 6.1258,  5.9830,  5.8403,  5.6975,  5.5548,  5.4121,  5.2693,  5.1266,\n",
      "          4.9838,  4.8411]])\n"
     ]
    }
   ],
   "source": [
    "trial_count=3\n",
    "iter_count=10\n",
    "O_descending=torch.zeros(trial_count,iter_count)\n",
    "O_fun=lambda x:layer(x).sum()\n",
    "for i in range(trial_count):\n",
    "    x=torch.rand(k,m)\n",
    "    layer = Linear(m,n,'relu')\n",
    "    O_descending[i,0]=O_fun(x)\n",
    "    for j in range(1,iter_count):\n",
    "        yg=torch.ones(k,n)\n",
    "        layer.update(yg,0.01)\n",
    "        O_descending[i,j]=O_fun(x)\n",
    "print(O_descending)"
   ],
   "metadata": {
    "collapsed": false,
    "pycharm": {
     "name": "#%%\n"
    }
   }
  },
  {
   "cell_type": "code",
   "execution_count": 33,
   "outputs": [
    {
     "data": {
      "text/plain": "[<matplotlib.lines.Line2D at 0x2231914b130>,\n <matplotlib.lines.Line2D at 0x2231914b160>,\n <matplotlib.lines.Line2D at 0x2231914b280>]"
     },
     "execution_count": 33,
     "metadata": {},
     "output_type": "execute_result"
    },
    {
     "data": {
      "text/plain": "<Figure size 432x288 with 1 Axes>",
      "image/png": "[encoded data removed]"
     },
     "metadata": {
      "needs_background": "light"
     },
     "output_type": "display_data"
    }
   ],
   "source": [
    "\n",
    "plt.plot(O_descending.T)"
   ],
   "metadata": {
    "collapsed": false,
    "pycharm": {
     "name": "#%%\n"
    }
   }
  },
  {
   "cell_type": "markdown",
   "source": [],
   "metadata": {
    "collapsed": false,
    "pycharm": {
     "name": "#%% md\n"
    }
   }
  }
 ],
 "metadata": {
  "kernelspec": {
   "display_name": "Python 3",
   "language": "python",
   "name": "python3"
  },
  "language_info": {
   "codemirror_mode": {
    "name": "ipython",
    "version": 2
   },
   "file_extension": ".py",
   "mimetype": "text/x-python",
   "name": "python",
   "nbconvert_exporter": "python",
   "pygments_lexer": "ipython2",
   "version": "2.7.6"
  }
 },
 "nbformat": 4,
 "nbformat_minor": 0
}